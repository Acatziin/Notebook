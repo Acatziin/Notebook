{
 "cells": [
  {
   "cell_type": "markdown",
   "metadata": {},
   "source": [
    "# Arrays - ejercicios"
   ]
  },
  {
   "cell_type": "code",
   "execution_count": 16,
   "metadata": {},
   "outputs": [
    {
     "name": "stdout",
     "output_type": "stream",
     "text": [
      "JUAN\n",
      "LUIS\n",
      "JOSÉ\n",
      "FRANCISCO\n",
      "GUADALUPE\n",
      "MARÍA\n",
      "JUANA\n",
      "ANTONIO\n",
      "JESÚS\n",
      "ÁNGEL\n",
      "PEDRO\n",
      "ALEJANDRO\n",
      "MANUEL\n",
      "MARGARITA\n",
      "CARMEN\n",
      "CARLOS\n",
      "ROBERTO\n",
      "FERNANDO\n",
      "DANIEL\n",
      "JORGE\n"
     ]
    }
   ],
   "source": [
    "# 1. Crear un array unidimensional de 20 elementos con nombres de personas. \n",
    "#    Visualizar los elementos de la lista debiendo ir cada uno en una fila distinta.\n",
    "\n",
    "nombres = ['JUAN','LUIS','JOSÉ','FRANCISCO','GUADALUPE','MARÍA','JUANA','ANTONIO','JESÚS','ÁNGEL','PEDRO','ALEJANDRO','MANUEL','MARGARITA','CARMEN','CARLOS','ROBERTO','FERNANDO','DANIEL','JORGE']\n",
    "for x in range (20):\n",
    "    print (nombres[x])"
   ]
  },
  {
   "cell_type": "code",
   "execution_count": 21,
   "metadata": {},
   "outputs": [
    {
     "name": "stdout",
     "output_type": "stream",
     "text": [
      "Escribe una nota musical para saber si está en el arreglo: (DO,RE,MI,FA,SOL,LA,SI)\n",
      "fa\n",
      "Tu nota no está en el arreglo\n"
     ]
    }
   ],
   "source": [
    "# 2. Dado un array de 5 notas, hacer un programa que busque una nota en el array.\n",
    "notas = ['DO','MI','SOL','SI','RE']\n",
    "print ('Escribe una nota musical para saber si está en el arreglo: (DO,RE,MI,FA,SOL,LA,SI)')\n",
    "nota = input()\n",
    "nota = nota.upper()\n",
    "bandera=0\n",
    "for i in range(5):\n",
    "    if notas[i]==nota:\n",
    "        print ('Tu nota está en el arreglo enla posición',i)\n",
    "        bandera=1\n",
    "\n",
    "if bandera == 0:\n",
    "    print ('Tu nota no está en el arreglo')"
   ]
  },
  {
   "cell_type": "code",
   "execution_count": 71,
   "metadata": {},
   "outputs": [
    {
     "data": {
      "text/plain": [
       "[1, 2, 3, 4, 6, 9, 10, 17, 17]"
      ]
     },
     "execution_count": 71,
     "metadata": {},
     "output_type": "execute_result"
    }
   ],
   "source": [
    "# 3. Escriba un algoritmo que lea dos arreglos de números enteros ORDENADOS ascendentemente y luego produzca la lista \n",
    "#    ordenada de la mezcla de los dos. Por ejemplo, si los dos arreglos tienen los números 1 3 6 9 17 y 2 4 10 17, \n",
    "#    respectivamente, la lista de números en la pantalla debe ser 1 2 3 4 6 9 10 17 17. \n",
    "\n",
    "a1 = [1, 3, 6, 9, 17]\n",
    "a2 = [2, 4, 10, 17]\n",
    "\n",
    "nuevo = a1 + a2\n",
    "nuevo.sort()\n",
    "nuevo"
   ]
  },
  {
   "cell_type": "code",
   "execution_count": 50,
   "metadata": {},
   "outputs": [],
   "source": [
    "# 4. Escriba un algoritmo que lea un arreglo de números enteros, y un número x, y escriba en la pantalla \n",
    "#    todos los índices de las posiciones del arreglo donde está x. Por ejemplo, si el arreglo es el que aparece \n",
    "#    enseguida y x es 2: 1,2,3,100,23,2,2,1; El programa debe escribir: 1 5 6. \n",
    "\n",
    "a1 = [1,2,3,100,23,2,2,1]\n",
    "x"
   ]
  },
  {
   "cell_type": "code",
   "execution_count": 35,
   "metadata": {},
   "outputs": [],
   "source": [
    "# 5. Un arreglo de números se llama partidario si todo número que está en una casilla par (0,2,4,…) es mayor \n",
    "#    que cualquiera de los números que están en las casillas impares (1,3,5,…). Escriba un algoritmo que lea un arreglo\n",
    "#    de números enteros y luego, diga si es partidario o no. Por ejemplo, si el arreglo es el siguiente: 100,5,200,1,1000,0,600,50,300,4;\n",
    "#    El programa debe escribir: es partidario. "
   ]
  },
  {
   "cell_type": "code",
   "execution_count": null,
   "metadata": {},
   "outputs": [],
   "source": []
  }
 ],
 "metadata": {
  "kernelspec": {
   "display_name": "Python 3",
   "language": "python",
   "name": "python3"
  },
  "language_info": {
   "codemirror_mode": {
    "name": "ipython",
    "version": 3
   },
   "file_extension": ".py",
   "mimetype": "text/x-python",
   "name": "python",
   "nbconvert_exporter": "python",
   "pygments_lexer": "ipython3",
   "version": "3.6.6"
  }
 },
 "nbformat": 4,
 "nbformat_minor": 2
}
