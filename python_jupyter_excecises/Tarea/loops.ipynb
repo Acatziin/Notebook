{
 "cells": [
  {
   "cell_type": "markdown",
   "metadata": {},
   "source": [
    "# Loops - ejercicios"
   ]
  },
  {
   "cell_type": "code",
   "execution_count": 32,
   "metadata": {},
   "outputs": [
    {
     "name": "stdout",
     "output_type": "stream",
     "text": [
      "[1, 2, 3, 4, 5, 6, 7, 8, 9, 10, 11, 12, 13, 14, 15, 16, 17, 18, 19, 20, 21, 22, 23, 24, 25, 26, 27, 28, 29, 30, 31, 32, 33, 34, 35, 36, 37, 38, 39, 40, 41, 42, 43, 44, 45, 46, 47, 48, 49, 50, 51, 52, 53, 54, 55, 56, 57, 58, 59, 60, 61, 62, 63, 64, 65, 66, 67, 68, 69, 70, 71, 72, 73, 74, 75, 76, 77, 78, 79, 80, 81, 82, 83, 84, 85, 86, 87, 88, 89, 90, 91, 92, 93, 94, 95, 96, 97, 98, 99, 100]\n"
     ]
    }
   ],
   "source": [
    "# 1. Hacer un código que imprima los números del 1 al 100. \n",
    "\n",
    "print ([i for i in range(1,101)])"
   ]
  },
  {
   "cell_type": "code",
   "execution_count": 31,
   "metadata": {},
   "outputs": [
    {
     "name": "stdout",
     "output_type": "stream",
     "text": [
      "[100, 99, 98, 97, 96, 95, 94, 93, 92, 91, 90, 89, 88, 87, 86, 85, 84, 83, 82, 81, 80, 79, 78, 77, 76, 75, 74, 73, 72, 71, 70, 69, 68, 67, 66, 65, 64, 63, 62, 61, 60, 59, 58, 57, 56, 55, 54, 53, 52, 51, 50, 49, 48, 47, 46, 45, 44, 43, 42, 41, 40, 39, 38, 37, 36, 35, 34, 33, 32, 31, 30, 29, 28, 27, 26, 25, 24, 23, 22, 21, 20, 19, 18, 17, 16, 15, 14, 13, 12, 11, 10, 9, 8, 7, 6, 5, 4, 3, 2, 1]\n"
     ]
    }
   ],
   "source": [
    "# 2. Hacer un código que imprima los números del 100 al 0, en orden decreciente.\n",
    "\n",
    "numeros = [i for i in range(1,101)]\n",
    "print (numeros[::-1])"
   ]
  },
  {
   "cell_type": "code",
   "execution_count": 30,
   "metadata": {},
   "outputs": [
    {
     "name": "stdout",
     "output_type": "stream",
     "text": [
      "[0, 2, 4, 6, 8, 10, 12, 14, 16, 18, 20, 22, 24, 26, 28, 30, 32, 34, 36, 38, 40, 42, 44, 46, 48, 50, 52, 54, 56, 58, 60, 62, 64, 66, 68, 70, 72, 74, 76, 78, 80, 82, 84, 86, 88, 90, 92, 94, 96, 98, 100]\n"
     ]
    }
   ],
   "source": [
    "# 3. Hacer un código que imprima los números pares entre 0 y 100.\n",
    "\n",
    "print ([x for x in range(101) if x%2 == 0])\n"
   ]
  },
  {
   "cell_type": "code",
   "execution_count": 50,
   "metadata": {},
   "outputs": [
    {
     "name": "stdout",
     "output_type": "stream",
     "text": [
      "5050\n"
     ]
    }
   ],
   "source": [
    "# 4. Hacer un programa que imprima la suma de los 100 primeros números.\n",
    "\n",
    "suma = 0\n",
    "for i in range (1,101):\n",
    "    suma+= i\n",
    "print (suma)"
   ]
  },
  {
   "cell_type": "code",
   "execution_count": 29,
   "metadata": {},
   "outputs": [
    {
     "name": "stdout",
     "output_type": "stream",
     "text": [
      "[1, 3, 5, 7, 9, 11, 13, 15, 17, 19, 21, 23, 25, 27, 29, 31, 33, 35, 37, 39, 41, 43, 45, 47, 49, 51, 53, 55, 57, 59, 61, 63, 65, 67, 69, 71, 73, 75, 77, 79, 81, 83, 85, 87, 89, 91, 93, 95, 97, 99]\n",
      "La cantidad de impares es 50\n"
     ]
    }
   ],
   "source": [
    "# 5. Hacer un código que imprima los números impares hasta el 100 y que imprima cuantos impares hay.\n",
    "\n",
    "impares = [x for x in range(100) if x%2 == 1]\n",
    "print (impares)\n",
    "print (\"La cantidad de impares es\",len (impares))"
   ]
  },
  {
   "cell_type": "code",
   "execution_count": 33,
   "metadata": {},
   "outputs": [
    {
     "name": "stdout",
     "output_type": "stream",
     "text": [
      "Introduce el número donde terminará la lista:\n",
      "37\n",
      "[1, 2, 3, 4, 5, 6, 7, 8, 9, 10, 11, 12, 13, 14, 15, 16, 17, 18, 19, 20, 21, 22, 23, 24, 25, 26, 27, 28, 29, 30, 31, 32, 33, 34, 35, 36, 37]\n"
     ]
    }
   ],
   "source": [
    "# 6. Hacer un código que imprima todos los números naturales que hay desde la unidad \n",
    "#    hasta un número que introducimos por teclado\n",
    "\n",
    "print('Introduce el número donde terminará la lista:')\n",
    "n = int(input())\n",
    "print ([i for i in range(1,n+1)])"
   ]
  },
  {
   "cell_type": "code",
   "execution_count": 78,
   "metadata": {},
   "outputs": [
    {
     "name": "stdout",
     "output_type": "stream",
     "text": [
      "Introduce una frase (para terminar escribe 'salir'):\n",
      "frase 1\n",
      "Introduce una frase (para terminar escribe 'salir'):\n",
      "frase 2\n",
      "Introduce una frase (para terminar escribe 'salir'):\n",
      "frase 3\n",
      "Introduce una frase (para terminar escribe 'salir'):\n",
      "frase 4\n",
      "Introduce una frase (para terminar escribe 'salir'):\n",
      "salir\n",
      "La cuenta de todas las frases es:  4\n"
     ]
    }
   ],
   "source": [
    "# 7. Introducir tantas frases como queramos y contarlas.\n",
    "\n",
    "frase=0\n",
    "cuenta=0\n",
    "\n",
    "while frase!=\"salir\":\n",
    "    print(\"Introduce una frase (para terminar escribe 'salir'):\")\n",
    "    frase = input()\n",
    "    cuenta+= 1\n",
    "\n",
    "print (\"La cuenta de todas las frases es: \", cuenta-1)"
   ]
  },
  {
   "cell_type": "code",
   "execution_count": 7,
   "metadata": {},
   "outputs": [
    {
     "name": "stdout",
     "output_type": "stream",
     "text": [
      "Escribe SI o NO:\n",
      "df\n",
      "¡Dato inválido!\n",
      "Escribe SI o NO:\n",
      "fef\n",
      "¡Dato inválido!\n",
      "Escribe SI o NO:\n",
      "fgd\n",
      "¡Dato inválido!\n",
      "Escribe SI o NO:\n",
      "no\n",
      "Escribe SI o NO:\n",
      "no\n",
      "Escribe SI o NO:\n",
      "si\n",
      "Ejecución terminada\n"
     ]
    }
   ],
   "source": [
    "# 8. Hacer un código que solo nos permita introducir SI o NO y \n",
    "#    Si la respuesta es SI termine la ejecución y si es NO pregunte de nuevo hasta que la respuesta sea SI.\n",
    "\n",
    "frase = 0\n",
    "\n",
    "while frase != \"SI\":\n",
    "    print (\"Escribe SI o NO:\")\n",
    "    frase = input()\n",
    "    frase = frase.upper()\n",
    "    if frase !='SI' and frase != 'NO':\n",
    "        print (\"¡Dato inválido!\")\n",
    "    elif frase == \"SI\":\n",
    "        print (\"Ejecución terminada\")    \n",
    "    "
   ]
  },
  {
   "cell_type": "code",
   "execution_count": 24,
   "metadata": {},
   "outputs": [
    {
     "name": "stdout",
     "output_type": "stream",
     "text": [
      "Introduce el número donde terminará la lista:\n",
      "46\n",
      "[3, 6, 9, 12, 15, 18, 21, 24, 27, 30, 33, 36, 39, 42, 45]\n",
      "La cuentas es 15\n"
     ]
    }
   ],
   "source": [
    "# 9. Imprimir y contar los múltiplos de 3 desde la unidad hasta un número que introducimos por teclado.\n",
    "\n",
    "print('Introduce el número donde terminará la lista:')\n",
    "n = int(input())\n",
    "\n",
    "tercias = [x for x in range(1,n+1) if x%3 == 0]\n",
    "print (tercias)\n",
    "print (\"La cuentas es\",len (tercias))"
   ]
  },
  {
   "cell_type": "code",
   "execution_count": 27,
   "metadata": {},
   "outputs": [
    {
     "name": "stdout",
     "output_type": "stream",
     "text": [
      "[1, 2, 3, 4, 5, 6, 7, 8, 9, 10, 11, 12, 13, 14, 15, 16, 17, 18, 19, 20, 21, 22, 23, 24, 25, 26, 27, 28, 29, 30, 31, 32, 33, 34, 35, 36, 37, 38, 39, 40, 41, 42, 43, 44, 45, 46, 47, 48, 49, 50, 51, 52, 53, 54, 55, 56, 57, 58, 59, 60, 61, 62, 63, 64, 65, 66, 67, 68, 69, 70, 71, 72, 73, 74, 75, 76, 77, 78, 79, 80, 81, 82, 83, 84, 85, 86, 87, 88, 89, 90, 91, 92, 93, 94, 95, 96, 97, 98, 99, 100]\n",
      "La suma de los pares es 2550\n",
      "La suma de los impares es 2500\n"
     ]
    }
   ],
   "source": [
    "# 10. Hacer un código que imprima los números del 1 al 100. \n",
    "#     Que calcule la suma de todos los números pares por un lado, y por otro, la de todos los impares. \n",
    "\n",
    "numeros = [i for i in range(1,101)]\n",
    "\n",
    "suma_par = 0\n",
    "suma_impar = 0\n",
    "for i in numeros:\n",
    "    if i%2 == 0:\n",
    "        suma_par+= i\n",
    "    else:\n",
    "        suma_impar+= i\n",
    "\n",
    "print (numeros)\n",
    "print (\"La suma de los pares es\",suma_par)\n",
    "print (\"La suma de los impares es\",suma_impar)"
   ]
  },
  {
   "cell_type": "code",
   "execution_count": 25,
   "metadata": {},
   "outputs": [
    {
     "name": "stdout",
     "output_type": "stream",
     "text": [
      "[2, 3, 4, 6, 8, 9, 10, 12, 14, 15, 16, 18, 20, 21, 22, 24, 26, 27, 28, 30, 32, 33, 34, 36, 38, 39, 40, 42, 44, 45, 46, 48, 50, 51, 52, 54, 56, 57, 58, 60, 62, 63, 64, 66, 68, 69, 70, 72, 74, 75, 76, 78, 80, 81, 82, 84, 86, 87, 88, 90, 92, 93, 94, 96, 98, 99, 100]\n",
      "La cuentas es 67\n"
     ]
    }
   ],
   "source": [
    "# 11. Imprimir y contar los números que son múltiplos de 2 o de 3 que hay entre 1 y 100.\n",
    "\n",
    "multiplos = [x for x in range(1,101) if x%2 == 0 or x%3 == 0] \n",
    "\n",
    "print (multiplos)\n",
    "print (\"La cuentas es\",len (multiplos))"
   ]
  }
 ],
 "metadata": {
  "kernelspec": {
   "display_name": "Python 3",
   "language": "python",
   "name": "python3"
  },
  "language_info": {
   "codemirror_mode": {
    "name": "ipython",
    "version": 3
   },
   "file_extension": ".py",
   "mimetype": "text/x-python",
   "name": "python",
   "nbconvert_exporter": "python",
   "pygments_lexer": "ipython3",
   "version": "3.6.6"
  }
 },
 "nbformat": 4,
 "nbformat_minor": 2
}
