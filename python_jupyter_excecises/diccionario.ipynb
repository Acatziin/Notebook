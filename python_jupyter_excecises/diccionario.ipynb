{
 "cells": [
  {
   "cell_type": "markdown",
   "metadata": {},
   "source": [
    "# Diccionario"
   ]
  },
  {
   "cell_type": "code",
   "execution_count": 28,
   "metadata": {},
   "outputs": [],
   "source": [
    "# Crear un diccionario con información de la familia\n",
    "familia = { \n",
    "\"abuelos\":{\"el\":\"Juan\",\"ella\":\"María\"}, \n",
    "\"tíos\":{\"promogénito\":\"Ana\",\"medio\":\"Pedro\",\"menor\":{\"mamá\":\"Silvia\"}},\n",
    "\"hermanos\":{\"mayor\":{\"yo\":\"Salvador\"},\"consentidos\":[\"Laura\",\"Jorge\"]}\n",
    "}"
   ]
  },
  {
   "cell_type": "code",
   "execution_count": 11,
   "metadata": {},
   "outputs": [
    {
     "data": {
      "text/plain": [
       "'Salvador'"
      ]
     },
     "execution_count": 11,
     "metadata": {},
     "output_type": "execute_result"
    }
   ],
   "source": [
    "familia[\"hermanos\"][\"mayor\"][\"yo\"]"
   ]
  },
  {
   "cell_type": "code",
   "execution_count": 19,
   "metadata": {},
   "outputs": [
    {
     "data": {
      "text/plain": [
       "dict_keys(['abuelos', 'tíos', 'hermanos'])"
      ]
     },
     "execution_count": 19,
     "metadata": {},
     "output_type": "execute_result"
    }
   ],
   "source": [
    "familia.keys()"
   ]
  },
  {
   "cell_type": "code",
   "execution_count": 20,
   "metadata": {},
   "outputs": [
    {
     "data": {
      "text/plain": [
       "dict_values([{'el': 'Juan', 'ella': 'María'}, {'promogénito': 'Ana', 'medio': 'Pedro', 'menor': {'mamá': 'Silvia'}}, {'mayor': {'yo': 'Salvador'}, 'consentido': 'Laura'}])"
      ]
     },
     "execution_count": 20,
     "metadata": {},
     "output_type": "execute_result"
    }
   ],
   "source": [
    "familia.values()"
   ]
  },
  {
   "cell_type": "code",
   "execution_count": 21,
   "metadata": {},
   "outputs": [
    {
     "data": {
      "text/plain": [
       "dict_items([('abuelos', {'el': 'Juan', 'ella': 'María'}), ('tíos', {'promogénito': 'Ana', 'medio': 'Pedro', 'menor': {'mamá': 'Silvia'}}), ('hermanos', {'mayor': {'yo': 'Salvador'}, 'consentido': 'Laura'})])"
      ]
     },
     "execution_count": 21,
     "metadata": {},
     "output_type": "execute_result"
    }
   ],
   "source": [
    "familia.items()"
   ]
  },
  {
   "cell_type": "code",
   "execution_count": 26,
   "metadata": {},
   "outputs": [
    {
     "data": {
      "text/plain": [
       "'Jorge'"
      ]
     },
     "execution_count": 26,
     "metadata": {},
     "output_type": "execute_result"
    }
   ],
   "source": [
    "familia[\"hermanos\"][\"consentidos\"][1]"
   ]
  },
  {
   "cell_type": "code",
   "execution_count": null,
   "metadata": {},
   "outputs": [],
   "source": []
  }
 ],
 "metadata": {
  "kernelspec": {
   "display_name": "Python 3",
   "language": "python",
   "name": "python3"
  },
  "language_info": {
   "codemirror_mode": {
    "name": "ipython",
    "version": 3
   },
   "file_extension": ".py",
   "mimetype": "text/x-python",
   "name": "python",
   "nbconvert_exporter": "python",
   "pygments_lexer": "ipython3",
   "version": "3.6.6"
  }
 },
 "nbformat": 4,
 "nbformat_minor": 2
}
